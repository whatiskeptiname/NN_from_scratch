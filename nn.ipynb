{
 "cells": [
  {
   "cell_type": "markdown",
   "metadata": {},
   "source": [
    "# Neural Network from scratch.\n",
    "    Answers are done in this notebook."
   ]
  },
  {
   "cell_type": "markdown",
   "metadata": {},
   "source": [
    "Imports"
   ]
  },
  {
   "cell_type": "code",
   "execution_count": 247,
   "metadata": {},
   "outputs": [],
   "source": [
    "import numpy as np\n",
    "import random"
   ]
  },
  {
   "cell_type": "markdown",
   "metadata": {},
   "source": [
    "Defining the sigmoid funciton."
   ]
  },
  {
   "cell_type": "code",
   "execution_count": 248,
   "metadata": {},
   "outputs": [],
   "source": [
    "def sigmoid(z):\n",
    "    return 1.0/(1.0+np.exp(-z))"
   ]
  },
  {
   "cell_type": "markdown",
   "metadata": {},
   "source": [
    "Defining the Sigmoid function with +ve z."
   ]
  },
  {
   "cell_type": "code",
   "execution_count": 249,
   "metadata": {},
   "outputs": [],
   "source": [
    "def sigmoid_pos(z):\n",
    "    return 1.0/(1.0+np.exp(z))"
   ]
  },
  {
   "cell_type": "markdown",
   "metadata": {},
   "source": [
    "Defining derivative of Sigmoid function."
   ]
  },
  {
   "cell_type": "code",
   "execution_count": 250,
   "metadata": {},
   "outputs": [],
   "source": [
    "def sigmoid_prime(z):\n",
    "    \"\"\"Derivative of the sigmoid function.\"\"\"\n",
    "    return sigmoid(z)*(1-sigmoid(z))"
   ]
  },
  {
   "cell_type": "markdown",
   "metadata": {},
   "source": [
    "Defining derivative of Sigmoid function with +ve z."
   ]
  },
  {
   "cell_type": "code",
   "execution_count": 251,
   "metadata": {},
   "outputs": [],
   "source": [
    "def sigmoid_pos_prime(z):\n",
    "    \"\"\"Derivative of the sigmoid function.\"\"\"\n",
    "    return -(sigmoid_pos(z)*(1-sigmoid_pos(z)))"
   ]
  },
  {
   "cell_type": "markdown",
   "metadata": {},
   "source": [
    "Create Network class for neural network."
   ]
  },
  {
   "cell_type": "code",
   "execution_count": 260,
   "metadata": {},
   "outputs": [],
   "source": [
    "\n",
    "class Network():\n",
    "\n",
    "    def __init__(self, sizes, activation_function=sigmoid, activation_function_prime=sigmoid_prime):\n",
    "        \"\"\"The list ``sizes`` contains the number of neurons in the\n",
    "        respective layers of the network.  For example, if the list\n",
    "        was [2, 3, 1] then it would be a three-layer network, with the\n",
    "        first layer containing 2 neurons, the second layer 3 neurons,\n",
    "        and the third layer 1 neuron.\"\"\"\n",
    "        self.num_layers = len(sizes)\n",
    "        self.sizes = sizes\n",
    "        self.biases = [np.random.randn(y, 1) for y in sizes[1:]]\n",
    "        self.weights = [np.random.randn(y, x)\n",
    "                        for x, y in zip(sizes[:-1], sizes[1:])]\n",
    "        # Take the activation function as an argument and initialize it as a class method\n",
    "        self.activation_function = activation_function\n",
    "        self.activation_function_prime = activation_function_prime\n",
    "\n",
    "    def feedforward(self, a):\n",
    "        \"\"\"Return the output of the network if ``a`` is input.\"\"\"\n",
    "        for b, w in zip(self.biases, self.weights):\n",
    "            a = self.activation_function(np.dot(w, a)+b)\n",
    "        return a\n",
    "\n",
    "    def SGD(self, training_data, epochs, mini_batch_size, eta,\n",
    "            test_data=None):\n",
    "        \"\"\"Train the neural network using mini-batch stochastic\n",
    "        gradient descent.  The ``training_data`` is a list of tuples\n",
    "        ``(x, y)`` representing the training inputs and the desired\n",
    "        outputs. If ``test_data`` is provided then the\n",
    "        network will be evaluated against the test data after each\n",
    "        epoch, and partial progress printed out.\"\"\"\n",
    "        if test_data: n_test = len(test_data)\n",
    "        n = len(training_data)\n",
    "        \n",
    "        for j in range(epochs):\n",
    "            random.shuffle(training_data)\n",
    "            mini_batches = [\n",
    "                training_data[k:k+mini_batch_size]\n",
    "                for k in range(0, n, mini_batch_size)]\n",
    "            cost_arr = [] # Keep track of the cost for each epoch\n",
    "            for mini_batch in mini_batches:\n",
    "                self.update_mini_batch(mini_batch, eta)\n",
    "                cost_arr.append(self.cost(mini_batch))\n",
    "            if test_data:\n",
    "                test_eval = self.evaluate(test_data)\n",
    "                print(\n",
    "                    f\"Epoch {j}: {test_eval} / {n_test} Accuracy: {round(100*(test_eval/n_test), 2)} Cost: {np.mean(cost_arr)}\"\n",
    "                )\n",
    "            else:\n",
    "                print(f\"Epoch {j} complete\")\n",
    "\n",
    "    def update_mini_batch(self, mini_batch, eta):\n",
    "        \"\"\"Update the network's weights and biases by applying\n",
    "        gradient descent using backpropagation to a single mini batch.\n",
    "        The ``mini_batch`` is a list of tuples ``(x, y)``, and ``eta``\n",
    "        is the learning rate.\"\"\"\n",
    "        nabla_b = [np.zeros(b.shape) for b in self.biases]\n",
    "        nabla_w = [np.zeros(w.shape) for w in self.weights]\n",
    "        for x, y in mini_batch:\n",
    "            delta_nabla_b, delta_nabla_w = self.backprop(x, y)\n",
    "            nabla_b = [nb+dnb for nb, dnb in zip(nabla_b, delta_nabla_b)]\n",
    "            nabla_w = [nw+dnw for nw, dnw in zip(nabla_w, delta_nabla_w)]\n",
    "        self.weights = [w-(eta/len(mini_batch))*nw\n",
    "                        for w, nw in zip(self.weights, nabla_w)]\n",
    "        self.biases = [b-(eta/len(mini_batch))*nb\n",
    "                        for b, nb in zip(self.biases, nabla_b)]\n",
    "\n",
    "    def backprop(self, x, y):\n",
    "        \"\"\"Return a tuple ``(nabla_b, nabla_w)`` representing the\n",
    "        gradient for the cost function C_x.  ``nabla_b`` and\n",
    "        ``nabla_w`` are layer-by-layer lists of numpy arrays, similar\n",
    "        to ``self.biases`` and ``self.weights``.\"\"\"\n",
    "        nabla_b = [np.zeros(b.shape) for b in self.biases]\n",
    "        nabla_w = [np.zeros(w.shape) for w in self.weights]\n",
    "        # feedforward\n",
    "        activation = x\n",
    "        activations = [x] # list to store all the activations, layer by layer\n",
    "        zs = [] # list to store all the z vectors, layer by layer\n",
    "        for b, w in zip(self.biases, self.weights):\n",
    "            z = np.dot(w, activation)+b\n",
    "            zs.append(z)\n",
    "            activation = self.activation_function(z)\n",
    "            activations.append(activation)\n",
    "        # backward pass\n",
    "        delta = self.cost_derivative(activations[-1], y) * \\\n",
    "            self.activation_function_prime(zs[-1])\n",
    "        nabla_b[-1] = delta\n",
    "        nabla_w[-1] = np.dot(delta, activations[-2].transpose())\n",
    "        for l in range(2, self.num_layers):\n",
    "            z = zs[-l]\n",
    "            sp = self.activation_function_prime(z)\n",
    "            delta = np.dot(self.weights[-l+1].transpose(), delta) * sp\n",
    "            nabla_b[-l] = delta\n",
    "            nabla_w[-l] = np.dot(delta, activations[-l-1].transpose())\n",
    "        return (nabla_b, nabla_w)\n",
    "\n",
    "    def evaluate(self, test_data):\n",
    "        \"\"\"Return the number of test inputs for which the neural\n",
    "        network outputs the correct result.\"\"\"\n",
    "        test_results = [(np.argmax(self.feedforward(x)), y)\n",
    "                        for (x, y) in test_data]\n",
    "        return sum(int(x == y) for (x, y) in test_results)\n",
    "    \n",
    "    def cost(self, mini_batch):\n",
    "            \"\"\"Return the cost of the network for each epoch\"\"\"\n",
    "            square_error = [sum((y - self.feedforward(x))**2)\n",
    "                            for x, y in mini_batch]\n",
    "            return np.mean(square_error) / 2\n",
    "                \n",
    "    def cost_derivative(self, output_activations, y):\n",
    "        \"\"\"Return the vector of partial derivatives (partial C_x) /\n",
    "        (partial y) for the output activations.\"\"\"\n",
    "        return (output_activations-y)"
   ]
  },
  {
   "cell_type": "markdown",
   "metadata": {},
   "source": [
    "Loading data using mnist_loader tool."
   ]
  },
  {
   "cell_type": "code",
   "execution_count": 253,
   "metadata": {},
   "outputs": [],
   "source": [
    "from tools import mnist_loader\n",
    "# take only train_data and test_data\n",
    "training_data, _, test_data = mnist_loader.load_data_wrapper()"
   ]
  },
  {
   "cell_type": "markdown",
   "metadata": {},
   "source": [
    "Initializing network object with sigmoid activation function."
   ]
  },
  {
   "cell_type": "code",
   "execution_count": 254,
   "metadata": {},
   "outputs": [],
   "source": [
    "nn_with_sigmoid = Network(\n",
    "                [784, 30, 10],activation_function=sigmoid,\n",
    "                activation_function_prime=sigmoid_prime\n",
    "                )"
   ]
  },
  {
   "cell_type": "markdown",
   "metadata": {},
   "source": [
    "Training"
   ]
  },
  {
   "cell_type": "code",
   "execution_count": 255,
   "metadata": {},
   "outputs": [
    {
     "name": "stdout",
     "output_type": "stream",
     "text": [
      "Epoch 0: 8967 / 10000 Cost: 0.1364484121219627\n",
      "Epoch 1: 9128 / 10000 Cost: 0.047801207277343306\n",
      "Epoch 2: 9250 / 10000 Cost: 0.03999780601801576\n",
      "Epoch 3: 9337 / 10000 Cost: 0.035721526145789405\n",
      "Epoch 4: 9318 / 10000 Cost: 0.033039261803944384\n",
      "Epoch 5: 9372 / 10000 Cost: 0.03137646785808741\n",
      "Epoch 6: 9403 / 10000 Cost: 0.029611429265433344\n",
      "Epoch 7: 9419 / 10000 Cost: 0.027867557634382183\n",
      "Epoch 8: 9430 / 10000 Cost: 0.0271872223527151\n",
      "Epoch 9: 9455 / 10000 Cost: 0.02605476967860194\n"
     ]
    }
   ],
   "source": [
    "nn_with_sigmoid.SGD(training_data, 10, 10, 3.0, test_data=test_data)"
   ]
  },
  {
   "cell_type": "markdown",
   "metadata": {},
   "source": [
    "### Answer:\n",
    "    The training went well. The Accuracy is 94.5%.\n",
    "    Improvements:\n",
    "    - Initalizing the weignts using glorot method.\n",
    "    - Using cross validation to find the best hyperparameters.\n",
    "    \n",
    "    "
   ]
  },
  {
   "cell_type": "markdown",
   "metadata": {},
   "source": [
    "Initializing network object with sigmoid_pos activation function."
   ]
  },
  {
   "cell_type": "code",
   "execution_count": 256,
   "metadata": {},
   "outputs": [],
   "source": [
    "nn_with_sigmoid_pos = Network(\n",
    "                [784, 30, 10],activation_function=sigmoid_pos,\n",
    "                activation_function_prime=sigmoid_pos_prime\n",
    "                )"
   ]
  },
  {
   "cell_type": "markdown",
   "metadata": {},
   "source": [
    "Training."
   ]
  },
  {
   "cell_type": "code",
   "execution_count": 257,
   "metadata": {},
   "outputs": [
    {
     "name": "stdout",
     "output_type": "stream",
     "text": [
      "Epoch 0: 9060 / 10000 Cost: 0.08996456812940505\n",
      "Epoch 1: 9242 / 10000 Cost: 0.04363640478727131\n",
      "Epoch 2: 9287 / 10000 Cost: 0.03719470566175102\n",
      "Epoch 3: 9320 / 10000 Cost: 0.03330797622406372\n",
      "Epoch 4: 9333 / 10000 Cost: 0.031236756681594993\n",
      "Epoch 5: 9362 / 10000 Cost: 0.02979664380250648\n",
      "Epoch 6: 9370 / 10000 Cost: 0.02814211668519065\n",
      "Epoch 7: 9354 / 10000 Cost: 0.026825489435866597\n",
      "Epoch 8: 9393 / 10000 Cost: 0.0261362489620615\n",
      "Epoch 9: 9372 / 10000 Cost: 0.02538049501368516\n"
     ]
    }
   ],
   "source": [
    "nn_with_sigmoid_pos.SGD(training_data, 10, 10, 3.0, test_data=test_data)"
   ]
  },
  {
   "cell_type": "markdown",
   "metadata": {},
   "source": [
    "### Answer:\n",
    "    Yes, it works for sigmoid activation function with +ve z."
   ]
  },
  {
   "cell_type": "markdown",
   "metadata": {},
   "source": [
    "Adding two more hidden layers."
   ]
  },
  {
   "cell_type": "code",
   "execution_count": 258,
   "metadata": {},
   "outputs": [],
   "source": [
    "nn_with_sigmoid = Network(\n",
    "                [784, 30, 30, 30, 10],activation_function=sigmoid,\n",
    "                activation_function_prime=sigmoid_prime\n",
    "                )"
   ]
  },
  {
   "cell_type": "code",
   "execution_count": 259,
   "metadata": {},
   "outputs": [
    {
     "name": "stdout",
     "output_type": "stream",
     "text": [
      "Epoch 0: 8940 / 10000 Cost: 0.11184793591720718\n",
      "Epoch 1: 9185 / 10000 Cost: 0.04192322945040213\n",
      "Epoch 2: 9208 / 10000 Cost: 0.03626577693455503\n",
      "Epoch 3: 9262 / 10000 Cost: 0.03247335363704397\n",
      "Epoch 4: 9291 / 10000 Cost: 0.030083227173701134\n",
      "Epoch 5: 9312 / 10000 Cost: 0.028361085598474063\n",
      "Epoch 6: 9372 / 10000 Cost: 0.026856454316355985\n",
      "Epoch 7: 9239 / 10000 Cost: 0.025839068924285696\n",
      "Epoch 8: 9376 / 10000 Cost: 0.024770992958933744\n",
      "Epoch 9: 9384 / 10000 Cost: 0.02316413131424503\n"
     ]
    }
   ],
   "source": [
    "nn_with_sigmoid.SGD(training_data, 10, 10, 3.0, test_data=test_data)"
   ]
  },
  {
   "cell_type": "markdown",
   "metadata": {},
   "source": [
    "### Answer:\n",
    "    With more layer the accuracy doesn't improved much. This might be due to random selection of number and size of the hidden layers."
   ]
  }
 ],
 "metadata": {
  "interpreter": {
   "hash": "e7370f93d1d0cde622a1f8e1c04877d8463912d04d973331ad4851f04de6915a"
  },
  "kernelspec": {
   "display_name": "Python 3.10.4 64-bit",
   "language": "python",
   "name": "python3"
  },
  "language_info": {
   "codemirror_mode": {
    "name": "ipython",
    "version": 3
   },
   "file_extension": ".py",
   "mimetype": "text/x-python",
   "name": "python",
   "nbconvert_exporter": "python",
   "pygments_lexer": "ipython3",
   "version": "3.10.4"
  },
  "orig_nbformat": 4
 },
 "nbformat": 4,
 "nbformat_minor": 2
}
